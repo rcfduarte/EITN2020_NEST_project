{
 "cells": [
  {
   "cell_type": "code",
   "execution_count": 1,
   "metadata": {},
   "outputs": [],
   "source": [
    "import nest\n",
    "import nest.raster_plot\n",
    "import numpy as np\n",
    "from sklearn.decomposition import PCA\n",
    "\n",
    "from helper import generate_input, filter_spikes, filter_spikes_parallel, compute_capacity\n",
    "\n",
    "import matplotlib.pyplot as plt\n",
    "from mpl_toolkits.mplot3d import Axes3D"
   ]
  },
  {
   "cell_type": "markdown",
   "metadata": {},
   "source": [
    "In this example, we will evaluate the ability of the network to represent a continuous input signal. We will drive the network with the patterned stimulus (similar to the previous example), and use a linear decoder to reconstruct this signal based on the population responses."
   ]
  },
  {
   "cell_type": "markdown",
   "metadata": {},
   "source": [
    "# Global settings"
   ]
  },
  {
   "cell_type": "code",
   "execution_count": 2,
   "metadata": {},
   "outputs": [],
   "source": [
    "seed = 10\n",
    "np.random.seed(seed)"
   ]
  },
  {
   "cell_type": "code",
   "execution_count": 3,
   "metadata": {},
   "outputs": [],
   "source": [
    "dt = 0.1  # simulation resolution\n",
    "num_threads = 16\n",
    "\n",
    "# Initialize NEST\n",
    "nest.ResetKernel()\n",
    "nest.SetKernelStatus({\n",
    "    'grng_seed': seed,\n",
    "    'resolution': dt,\n",
    "    'print_time': True,\n",
    "    'local_num_threads': num_threads})"
   ]
  },
  {
   "cell_type": "markdown",
   "metadata": {},
   "source": [
    "---\n",
    "# Balanced Random Network\n",
    "\n",
    "For this example, we will use a standard Brunel balanced random network (see NEST tutorials). However, you are encouraged to explore different neuron and synapse models and/or more complex connectivity schemes."
   ]
  },
  {
   "cell_type": "code",
   "execution_count": 4,
   "metadata": {},
   "outputs": [],
   "source": [
    "# network parameters\n",
    "gamma = 0.25               # relative number of inhibitory connections\n",
    "NE = 100                  # number of excitatory neurons (10.000 in [1])\n",
    "NI = int(gamma * NE)       # number of inhibitory neurons\n",
    "CE = 10                  # indegree from excitatory neurons\n",
    "CI = int(gamma * CE)       # indegree from inhibitory neurons"
   ]
  },
  {
   "cell_type": "code",
   "execution_count": 5,
   "metadata": {},
   "outputs": [],
   "source": [
    "# synapse parameters\n",
    "w = 0.1                    # excitatory synaptic weight (mV)\n",
    "g = 5.                     # relative inhibitory to excitatory synaptic weight\n",
    "d = 1.5                    # synaptic transmission delay (ms)"
   ]
  },
  {
   "cell_type": "code",
   "execution_count": 6,
   "metadata": {},
   "outputs": [],
   "source": [
    "# neuron paramters\n",
    "V_th = 20.                 # spike threshold (mV)\n",
    "tau_m = 20.                # membrane time constant (ms)\n",
    "neuron_params = {\n",
    "    'C_m': 1.0,            # membrane capacity (pF)\n",
    "    'E_L': 0.,             # resting membrane potential (mV)\n",
    "    'I_e': 0.,             # external input current (pA)\n",
    "    'V_m': 0.,             # membrane potential (mV)\n",
    "    'V_reset': 10.,        # reset membrane potential after a spike (mV)\n",
    "    'V_th': V_th,          #\n",
    "    't_ref': 2.0,          # refractory period (ms)\n",
    "    'tau_m': tau_m,        #\n",
    "}"
   ]
  },
  {
   "cell_type": "markdown",
   "metadata": {},
   "source": [
    "### Create and connect populations"
   ]
  },
  {
   "cell_type": "code",
   "execution_count": 7,
   "metadata": {},
   "outputs": [],
   "source": [
    "# set default parameters for neurons and create neurons\n",
    "nest.SetDefaults('iaf_psc_delta', neuron_params)\n",
    "neurons_e = nest.Create('iaf_psc_delta', NE)\n",
    "neurons_i = nest.Create('iaf_psc_delta', NI)\n",
    "\n",
    "# create excitatory connections\n",
    "# synapse specification\n",
    "syn_exc = {'delay': d, 'weight': w}\n",
    "# connection specification\n",
    "conn_exc = {'rule': 'fixed_indegree', 'indegree': CE}\n",
    "# connect stuff\n",
    "nest.Connect(neurons_e, neurons_e, conn_exc, syn_exc)\n",
    "nest.Connect(neurons_e, neurons_i, conn_exc, syn_exc)\n",
    "\n",
    "# create inhibitory connections\n",
    "# synapse specification\n",
    "syn_inh = {'delay': d, 'weight': - g * w}\n",
    "# connection specification\n",
    "conn_inh = {'rule': 'fixed_indegree', 'indegree': CI}\n",
    "# connect stuff\n",
    "nest.Connect(neurons_i, neurons_e, conn_inh, syn_inh)\n",
    "nest.Connect(neurons_i, neurons_i, conn_inh, syn_inh)"
   ]
  },
  {
   "cell_type": "markdown",
   "metadata": {},
   "source": [
    "### Create and connect external inputs\n",
    "We are going to drive the circuit with noise for an initial period, followed by a patterned stimulus signal."
   ]
  },
  {
   "cell_type": "code",
   "execution_count": 8,
   "metadata": {},
   "outputs": [],
   "source": [
    "# external input (stimulus)\n",
    "step_duration = 20.    # [ms]\n",
    "scale = 10000.         # input scaling factor [Hz]\n",
    "num_steps = 100        # number of unique input values\n",
    "\n",
    "sig, times, inp_times, inp_amplitudes = generate_input(seed=seed, num_steps=num_steps, step_duration=step_duration, resolution=dt, scale=scale)"
   ]
  },
  {
   "cell_type": "code",
   "execution_count": 9,
   "metadata": {},
   "outputs": [
    {
     "data": {
      "text/plain": [
       "Text(0.5, 1.0, '$u(t)$')"
      ]
     },
     "execution_count": 9,
     "metadata": {},
     "output_type": "execute_result"
    },
    {
     "data": {
      "image/png": "[encoded data removed]",
      "text/plain": [
       "<Figure size 432x288 with 1 Axes>"
      ]
     },
     "metadata": {
      "needs_background": "light"
     },
     "output_type": "display_data"
    }
   ],
   "source": [
    "# visualize example input stimulus\n",
    "fig, ax = plt.subplots()\n",
    "ax.plot(times, sig)\n",
    "ax.set_xlim([0, 1000])\n",
    "ax.set_xlabel(r'Time [ms]')\n",
    "ax.set_ylabel(r'Amplitude')\n",
    "ax.set_title(r'$u(t)$')"
   ]
  },
  {
   "cell_type": "code",
   "execution_count": 10,
   "metadata": {},
   "outputs": [],
   "source": [
    "# create inhomogeneous poisson generator (time-dependent input signal)\n",
    "stim_pgen = nest.Create('inhomogeneous_poisson_generator', 1)\n",
    "nest.SetStatus(stim_pgen, params={'rate_times': inp_times, 'rate_values': inp_amplitudes})"
   ]
  },
  {
   "cell_type": "code",
   "execution_count": 11,
   "metadata": {},
   "outputs": [],
   "source": [
    "# connect poisson generator using the excitatory connection weight\n",
    "nest.Connect(stim_pgen, neurons_e, syn_spec=syn_exc)\n",
    "nest.Connect(stim_pgen, neurons_i, syn_spec=syn_exc)"
   ]
  },
  {
   "cell_type": "markdown",
   "metadata": {},
   "source": [
    "### Create and connect recording devices\n",
    "Note: we will restrict the analysis to the activity of the excitatory neurons. If you run into memory or time constraints, you can also downsample and record from a smaller subset of neurons."
   ]
  },
  {
   "cell_type": "code",
   "execution_count": 12,
   "metadata": {},
   "outputs": [],
   "source": [
    "spikes = nest.Create('spike_detector')\n",
    "nest.Connect(neurons_e, spikes)"
   ]
  },
  {
   "cell_type": "markdown",
   "metadata": {},
   "source": [
    "## Simulate"
   ]
  },
  {
   "cell_type": "code",
   "execution_count": 13,
   "metadata": {},
   "outputs": [],
   "source": [
    "nest.Simulate(num_steps*step_duration)"
   ]
  },
  {
   "cell_type": "markdown",
   "metadata": {},
   "source": [
    "### Post-process data"
   ]
  },
  {
   "cell_type": "markdown",
   "metadata": {},
   "source": [
    "In order to evaluate the capacity, we need a continuous state variable. This can be done either by recording the $V_{m}$ and using it directly, or low-pass filtering the recorded spikes (estimate the instantaneous rates). In this example, we use the later case. Note that this implementation is very time-consuming so for later examples, we will use the $V_{m}$ instead and sub-sample it to acquire one single state vector per input step. These population activity state vectors are gathered and stored in a matrix, $X$."
   ]
  },
  {
   "cell_type": "code",
   "execution_count": null,
   "metadata": {},
   "outputs": [
    {
     "name": "stderr",
     "output_type": "stream",
     "text": [
      "Filtering SpikeTrains:  21%|██        | 209/1000 [05:40<33:37,  2.55s/it] "
     ]
    }
   ],
   "source": [
    "filter_tau = 20. # [ms]\n",
    "\n",
    "activity = nest.GetStatus(spikes)[0]['events']\n",
    "# states = filter_spikes(activity['times'], activity['senders'], NE, t_start=0., t_stop=num_steps*step_duration, dt=dt, tau=filter_tau)\n",
    "\n",
    "# if you can use parallelization, it can be very useful here:\n",
    "states = filter_spikes_parallel(activity['times'], activity['senders'], NE, t_start=0., t_stop=num_steps*step_duration, dt=dt, tau=filter_tau, n_processes=num_threads)"
   ]
  },
  {
   "cell_type": "markdown",
   "metadata": {},
   "source": [
    "## Decoding\n",
    "If the input-driven dynamics contains enough information, we should be able to reconstruct some target signal. For this purpose, we will use standard linear regression (see helper functions). If the state of the circuit is stored in a matrix $X$ and the target signal to reconstruct is $y$, we can estimate the optimal linear projection as:\n",
    "\\begin{equation}\n",
    "D = \\left( X^{T}X\\right)^{-1} X^{T}Y\n",
    "\\end{equation}\n",
    "\n",
    "In the simplest case that we explore in this example, we want to reconstruct the original input signal, i.e. $y(t)=u(t)$. "
   ]
  },
  {
   "cell_type": "markdown",
   "metadata": {},
   "source": [
    "We can measure the circuit's capacity to reconstruct $y(t)$ as:\n",
    "\\begin{equation}\n",
    "\\mathrm{C}[\\mathrm{X}, \\mathrm{y}]=\\frac{\\left<y(t)\\hat{y}(t)\\right>_{T}^{2}}{\\sigma^2(y)\\sigma^2(\\hat{y})}\n",
    "\\end{equation}\n",
    "\n",
    "where $\\hat{y}(t)$ is the reconstructed signal. This measure is normalized, so if the circuit optimally represents the input, $\\mathrm{C}[\\mathrm{X}, \\mathrm{y}]=1$."
   ]
  },
  {
   "cell_type": "code",
   "execution_count": null,
   "metadata": {},
   "outputs": [],
   "source": [
    "# exclude initial values at 0.\n",
    "sig = sig[1:]\n",
    "times = times[1:]"
   ]
  },
  {
   "cell_type": "code",
   "execution_count": null,
   "metadata": {},
   "outputs": [],
   "source": [
    "estimate, capacity, error, norm = compute_capacity(states, sig)\n",
    "print(\"Capacity={0}, MSE={1}\".format(str(capacity), str(error)))"
   ]
  },
  {
   "cell_type": "markdown",
   "metadata": {},
   "source": [
    "Let's visualize the results:"
   ]
  },
  {
   "cell_type": "code",
   "execution_count": null,
   "metadata": {},
   "outputs": [],
   "source": [
    "fig = plt.figure()\n",
    "fig.suptitle('Representation Capacity [C={0}]'.format(str(capacity)))\n",
    "ax11 = fig.add_subplot(211)\n",
    "ax12 = fig.add_subplot(212, sharex=ax11)\n",
    "ax11.plot(activity['times'], activity['senders'], '.k', markersize=1)\n",
    "ax11.set_xlim([0., num_steps*step_duration])\n",
    "ax12.plot(times, sig, 'r', linewidth=2)\n",
    "ax12.plot(times, estimate, 'k', linewidth=1)\n",
    "ax12.set_xlabel(r'Time [ms]')"
   ]
  },
  {
   "cell_type": "markdown",
   "metadata": {},
   "source": [
    "It is frequently useful to graphically analyze population activity in a low-dimensional space, as obtained, for example, by principal component analysis"
   ]
  },
  {
   "cell_type": "code",
   "execution_count": null,
   "metadata": {},
   "outputs": [],
   "source": [
    "fig = plt.figure()\n",
    "ax1 = fig.add_subplot(121)\n",
    "ax1.imshow(states, aspect='auto')\n",
    "ax2 = fig.add_subplot(122, projection='3d')\n",
    "pca_fit = PCA(n_components=np.shape(states)[0])\n",
    "X = pca_fit.fit_transform(states.T)\n",
    "ax2.plot(X[:, 0], X[:, 1], X[:, 2], color='k', lw=1)"
   ]
  },
  {
   "cell_type": "code",
   "execution_count": null,
   "metadata": {},
   "outputs": [],
   "source": []
  }
 ],
 "metadata": {
  "kernelspec": {
   "display_name": "Python 3",
   "language": "python",
   "name": "python3"
  },
  "language_info": {
   "codemirror_mode": {
    "name": "ipython",
    "version": 3
   },
   "file_extension": ".py",
   "mimetype": "text/x-python",
   "name": "python",
   "nbconvert_exporter": "python",
   "pygments_lexer": "ipython3",
   "version": "3.6.9"
  }
 },
 "nbformat": 4,
 "nbformat_minor": 4
}
